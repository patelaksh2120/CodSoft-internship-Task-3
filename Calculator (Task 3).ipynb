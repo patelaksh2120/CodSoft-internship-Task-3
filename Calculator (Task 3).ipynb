{
 "cells": [
  {
   "cell_type": "markdown",
   "id": "b80c8435",
   "metadata": {},
   "source": [
    "# Calculator"
   ]
  },
  {
   "cell_type": "code",
   "execution_count": 1,
   "id": "090df1be",
   "metadata": {},
   "outputs": [],
   "source": [
    "import tkinter as tk\n",
    "\n",
    "root = tk.Tk()\n",
    "root.title(\" Calculator\")\n",
    "\n",
    "frame = tk.Frame(root)\n",
    "frame.pack(padx=10,pady=10)\n",
    "\n",
    "for i in range(5):\n",
    "    frame.rowconfigure(i,pad=12)\n",
    "    \n",
    "def click(value):\n",
    "    entry.insert(tk.END,value)\n",
    "def clear():\n",
    "    entry.delete(0,tk.END)\n",
    "def calculate():\n",
    "    Ans = eval(entry.get())\n",
    "    entry.delete(0,tk.END)\n",
    "    entry.insert(tk.END,str(Ans))\n",
    "    \n",
    "entry = tk.Entry(frame,width=25)\n",
    "entry.grid(row=0,column=0,columnspan=4)\n",
    "\n",
    "buttons = [\n",
    "           (\"7\",1,0),(\"8\",1,1),(\"9\",1,2),(\"-\",1,3),\n",
    "           (\"4\",2,0),(\"5\",2,1),(\"6\",2,2),(\"+\",2,3),\n",
    "           (\"1\",3,0),(\"2\",3,1),(\"3\",3,2),(\"/\",3,3),\n",
    "           (\"0\",4,0),(\"00\",4,1),(\".\",4,2),(\"*\",4,3)\n",
    "          ]\n",
    "    \n",
    "\n",
    "for text,row,column in buttons:\n",
    "    button = tk.Button(frame,text=text,padx=18,pady=14,command=lambda t=text:click(t),bg='blue',fg='white')\n",
    "    button.grid(row=row,column=column)\n",
    "    \n",
    "equal_button = tk.Button(frame,text=\"=\",padx=21,pady=16,command=calculate)\n",
    "equal_button.grid(row=5,column=0)\n",
    "\n",
    "clear_button = tk.Button(frame,text=\"AC\",padx=21,pady=16,command=clear,fg='black')\n",
    "clear_button.grid(row=5,column=3)\n",
    "root.mainloop()"
   ]
  }
 ],
 "metadata": {
  "kernelspec": {
   "display_name": "Python 3 (ipykernel)",
   "language": "python",
   "name": "python3"
  },
  "language_info": {
   "codemirror_mode": {
    "name": "ipython",
    "version": 3
   },
   "file_extension": ".py",
   "mimetype": "text/x-python",
   "name": "python",
   "nbconvert_exporter": "python",
   "pygments_lexer": "ipython3",
   "version": "3.9.12"
  }
 },
 "nbformat": 4,
 "nbformat_minor": 5
}
